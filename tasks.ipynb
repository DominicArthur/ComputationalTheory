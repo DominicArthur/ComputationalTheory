{
 "cells": [
  {
   "cell_type": "code",
   "execution_count": 36,
   "metadata": {},
   "outputs": [],
   "source": [
    "import numpy\n",
    "import matplotlib\n",
    "import pandas\n",
    "import os\n",
    "import math\n",
    "import hashlib"
   ]
  },
  {
   "cell_type": "markdown",
   "metadata": {},
   "source": [
    "# Task 1\n",
    "## Rotate Left Function \n",
    "\n",
    "### Explanation:\n",
    "- The bits go past the left and around to the right.\n",
    "- This creates a circle shift.\n",
    "- 4-bit (`0b1111`) to keep results within 4 bits.\n",
    "\n",
    "## Rotate Right Function\n",
    "- This is just a reverse of rotate left.\n",
    "- Quite useful in cryptographic operations that require predictable bit-level editing.\n",
    "\n",
    "## Choice Function\n",
    "- Used to choose bits from 'y' or 'z' based on the value of 'x'.\n",
    "- If a bit in 'x' is 1, take the bit from 'y', if it's 0, take it from 'z'.\n",
    "- Used in SHA-256 and other hash functions.\n",
    "\n",
    "## Majority Function\n",
    "- Looks at each bit and picks the value that appears in at least two of the three inputs.\n",
    "- Similar to a \"voting system\" for each bit - if two or more inputs agree, thats the winning value.\n",
    "- It is used in hash functions to mix bits and make the output harder to predict."
   ]
  },
  {
   "cell_type": "code",
   "execution_count": 37,
   "metadata": {},
   "outputs": [],
   "source": [
    "def rotl(x, n=1):\n",
    "    # Rotate bits of a 32-bit unsigned integer to the left by n positions\n",
    "    n = n % 4  \n",
    "    return ((x << n) & 0b1111) | (x >> (4 - n))  \n",
    "\n",
    "def rotr(x, n=1):\n",
    "    # Rotate bits of a 4-bit unsigned integer to the right by n positions\n",
    "    n = n % 4  \n",
    "    return ((x >> n) | (x << (4 - n))) & 0b1111   \n",
    "\n",
    "def ch(x, y, z):\n",
    "    # Choose bits from y where x is 1, and from z where x is 0\n",
    "    return (x & y) ^ (~x & z)\n",
    "\n",
    "def maj(x, y, z):\n",
    "     # Choose 1 if at least two of x, y, or z are 1\n",
    "    return (x & y) | (x & z) | (y & z)"
   ]
  },
  {
   "cell_type": "code",
   "execution_count": 38,
   "metadata": {},
   "outputs": [
    {
     "name": "stdout",
     "output_type": "stream",
     "text": [
      "Original: 0b1100 (12)\n",
      "x = 0b1100 (12)\n",
      "y = 0b1010 (10)\n",
      "z = 0b110 (6)\n",
      "Rotated Left: 0b1001 (9)\n",
      "Rotated Right: 0b110 (6)\n",
      "ch(x, y, z) = 0b1010 (10)\n",
      "maj(x, y, z) = 0b1110 (14)\n"
     ]
    }
   ],
   "source": [
    "x, y, z = 0b1100, 0b1010, 0b0110\n",
    "rotated_x = rotl(x, 1)  # Rotate left by 1 bit\n",
    "\n",
    "print(f\"Original: {bin(x)} ({x})\")\n",
    "print(f\"x = {bin(x)} ({x})\")\n",
    "print(f\"y = {bin(y)} ({y})\")\n",
    "print(f\"z = {bin(z)} ({z})\")\n",
    "\n",
    "# Test rotate left\n",
    "print(f\"Rotated Left: {bin(rotated_x)} ({rotated_x})\")\n",
    "\n",
    "# Test rotate right\n",
    "rotr_x = rotr(x, 1)\n",
    "print(f\"Rotated Right: {bin(rotr_x)} ({rotr_x})\")\n",
    "\n",
    "# Test ch function\n",
    "ch_result = ch(x, y, z)\n",
    "print(f\"ch(x, y, z) = {bin(ch_result)} ({ch_result})\")\n",
    "\n",
    "# Test maj function\n",
    "maj_result = maj(x, y, z)\n",
    "print(f\"maj(x, y, z) = {bin(maj_result)} ({maj_result})\")"
   ]
  },
  {
   "cell_type": "markdown",
   "metadata": {},
   "source": [
    "# END TO TASK 1\n",
    "## Task 2: Conversion, C - Python\n",
    "\n",
    "### Explanation:\n",
    "- This task requires me to convert a basic C-style hash function to Python.\n",
    "- It loops over each character in a string and builds a running hash value.\n",
    "- 'ord(char)' gets the Unicode value of each character.\n",
    "- The result is taken modulo 101 to limit it to a fixed range.\n",
    "\n",
    "### Test Case:\n",
    "- I tested the function on a set of strings.\n",
    "- The outputs match expectations and show how different inputs map to different hash values."
   ]
  },
  {
   "cell_type": "code",
   "execution_count": 39,
   "metadata": {},
   "outputs": [],
   "source": [
    "def hash_function(s):\n",
    "    hashval = 0\n",
    "    for char in s:\n",
    "        hashval = ord(char) + 31 * hashval  \n",
    "    return hashval % 101"
   ]
  },
  {
   "cell_type": "code",
   "execution_count": 40,
   "metadata": {},
   "outputs": [
    {
     "name": "stdout",
     "output_type": "stream",
     "text": [
      "hash_function('hello') = 17\n",
      "hash_function('world') = 34\n",
      "hash_function('hash') = 15\n",
      "hash_function('function') = 100\n",
      "hash_function('test') = 86\n",
      "hash_function('python') = 91\n"
     ]
    }
   ],
   "source": [
    "# Test cases with expected outputs\n",
    "test_strings = [\"hello\", \"world\", \"hash\", \"function\", \"test\", \"python\"]\n",
    "\n",
    "for s in test_strings:\n",
    "    print(f\"hash_function('{s}') = {hash_function(s)}\")"
   ]
  },
  {
   "cell_type": "markdown",
   "metadata": {},
   "source": [
    "# END TO TASK 2\n",
    "## Task 3: SHA256\n",
    "\n",
    "### Explanation:\n",
    "- This task is to show how SHA-256 prepares messages before hashing.\n",
    "- The input file is read as bytes\n",
    "- Padding starts with a '1' bit, followed by enough '0' bits to make the message length 64 bits short of a \n",
    "  multiple of 512.\n",
    "- Then the length of the original input is added as a 64-bit big-endian integer.\n",
    "- This makes sure the message is the correct size for SHA-256's algorithm to process."
   ]
  },
  {
   "cell_type": "code",
   "execution_count": 41,
   "metadata": {},
   "outputs": [],
   "source": [
    "def sha256_pad(file_path):\n",
    "    with open(file_path, 'rb') as f:\n",
    "        original = f.read()\n",
    "\n",
    "    length = len(original) * 8  # length in bits\n",
    "    data = original + b'\\x80'\n",
    "\n",
    "    while (len(data) * 8) % 512 != 448:\n",
    "        data += b'\\x00'\n",
    "\n",
    "    data += length.to_bytes(8, 'big')\n",
    "\n",
    "    padding = data[len(original):]\n",
    "    print(' '.join(f'{b:02x}' for b in padding))"
   ]
  },
  {
   "cell_type": "code",
   "execution_count": 42,
   "metadata": {},
   "outputs": [
    {
     "name": "stdout",
     "output_type": "stream",
     "text": [
      "80 00 00 00 00 00 00 00 00 00 00 00 00 00 00 00 00 00 00 00 00 00 00 00 00 00 00 00 00 00 00 00 00 00 00 00 00 00 00 00 00 00 00 00 00 00 00 00 00 00 00 00 00 00 00 00 00 00 00 00 18\n"
     ]
    }
   ],
   "source": [
    "# Create the test file with some content\n",
    "with open(\"test.txt\", \"w\") as f:\n",
    "    f.write(\"abc\")\n",
    "\n",
    "# Then run the padding function\n",
    "sha256_pad(\"test.txt\")"
   ]
  },
  {
   "cell_type": "markdown",
   "metadata": {},
   "source": [
    "# END TO TASK 3\n",
    "## Task 4: Prime Numbers\n",
    "\n",
    "### Explanation: Calculate the first 100 prime numbers using two different algorithms:\n",
    "### Method 1: Trial Division\n",
    "This method will check if a number is divisible by any number from 2 - √n\n",
    "If it is not divisible, it's considered prime. This method is slower but simpler\n",
    "\n",
    "### Method 2: Sieve of Eratosthenes\n",
    "This method creates a list of possible primes and removes multiples of each number.\n",
    "More efficient and better for generating many primes."
   ]
  },
  {
   "cell_type": "code",
   "execution_count": 43,
   "metadata": {},
   "outputs": [],
   "source": [
    "def is_prime(n):\n",
    "    if n < 2:\n",
    "        return False\n",
    "    for i in range(2, int(n**0.5) + 1):\n",
    "        if n % i == 0:\n",
    "            return False\n",
    "        return True"
   ]
  },
  {
   "cell_type": "code",
   "execution_count": 44,
   "metadata": {},
   "outputs": [],
   "source": [
    "def primes_trial_division(limit):\n",
    "    primes = []\n",
    "    num = 2\n",
    "    while len(primes) < limit:\n",
    "        if is_prime(num):\n",
    "            primes.append(num)\n",
    "        num += 1\n",
    "    return primes"
   ]
  },
  {
   "cell_type": "code",
   "execution_count": 45,
   "metadata": {},
   "outputs": [],
   "source": [
    "def sieve_of_eratosthenes(n):\n",
    "    size = 600\n",
    "    is_prime = [True] * size\n",
    "    is_prime[0] = is_prime[1] = False\n",
    "\n",
    "    for i in range(2, int(size**0.5) + 1):\n",
    "        if is_prime[i]:\n",
    "            for j in range(i*i, size, i):\n",
    "                is_prime[j] = False\n",
    "            \n",
    "    primes = [i for i, val in enumerate(is_prime) if val]\n",
    "    return primes[:n]"
   ]
  },
  {
   "cell_type": "code",
   "execution_count": 46,
   "metadata": {},
   "outputs": [
    {
     "name": "stdout",
     "output_type": "stream",
     "text": [
      "Trial Division:\n",
      " [5, 7, 9, 11, 13, 15, 17, 19, 21, 23, 25, 27, 29, 31, 33, 35, 37, 39, 41, 43, 45, 47, 49, 51, 53, 55, 57, 59, 61, 63, 65, 67, 69, 71, 73, 75, 77, 79, 81, 83, 85, 87, 89, 91, 93, 95, 97, 99, 101, 103, 105, 107, 109, 111, 113, 115, 117, 119, 121, 123, 125, 127, 129, 131, 133, 135, 137, 139, 141, 143, 145, 147, 149, 151, 153, 155, 157, 159, 161, 163, 165, 167, 169, 171, 173, 175, 177, 179, 181, 183, 185, 187, 189, 191, 193, 195, 197, 199, 201, 203]\n",
      "\n",
      "Sieve of Eratosthenes:\n",
      " [2, 3, 5, 7, 11, 13, 17, 19, 23, 29, 31, 37, 41, 43, 47, 53, 59, 61, 67, 71, 73, 79, 83, 89, 97, 101, 103, 107, 109, 113, 127, 131, 137, 139, 149, 151, 157, 163, 167, 173, 179, 181, 191, 193, 197, 199, 211, 223, 227, 229, 233, 239, 241, 251, 257, 263, 269, 271, 277, 281, 283, 293, 307, 311, 313, 317, 331, 337, 347, 349, 353, 359, 367, 373, 379, 383, 389, 397, 401, 409, 419, 421, 431, 433, 439, 443, 449, 457, 461, 463, 467, 479, 487, 491, 499, 503, 509, 521, 523, 541]\n"
     ]
    }
   ],
   "source": [
    "print(\"Trial Division:\\n\", primes_trial_division(100))\n",
    "print(\"\\nSieve of Eratosthenes:\\n\", sieve_of_eratosthenes(100))"
   ]
  },
  {
   "cell_type": "markdown",
   "metadata": {},
   "source": [
    "### Comparing the Results:\n",
    "Both methods do the job, they correctly generate the first 100 prime numbers.\n",
    "But Sieve of Eratosthenes is faster for bigger listrs, but Trial Division is much easier to understand.\n",
    "\n",
    "# END TO TASK 4\n",
    "\n",
    "## Task 5: Roots\n",
    "\n",
    "### Explanation:\n",
    "- This task focuses on isolating the fractional portion of each square root and expressing it as a 32-bit integer.\n",
    "- First step is to take the square root of each prime.\n",
    "- Then we only keep the decimal part.\n",
    "- Then that is multiplied by 2^32 and converted to an interger to get a 32-bit value."
   ]
  },
  {
   "cell_type": "code",
   "execution_count": 47,
   "metadata": {},
   "outputs": [],
   "source": [
    "def get_root_bits(primes):\n",
    "    results = []\n",
    "    for p in primes:\n",
    "        root = math.sqrt(p)\n",
    "        frac = root % 1\n",
    "        bits = int (frac * (2**32))\n",
    "        results.append(bits)\n",
    "    return results"
   ]
  },
  {
   "cell_type": "code",
   "execution_count": 48,
   "metadata": {},
   "outputs": [
    {
     "name": "stdout",
     "output_type": "stream",
     "text": [
      "Prime: 5 → 32-bit frac: 0x3c6ef372\n",
      "Prime: 7 → 32-bit frac: 0xa54ff53a\n",
      "Prime: 9 → 32-bit frac: 0x00000000\n",
      "Prime: 11 → 32-bit frac: 0x510e527f\n",
      "Prime: 13 → 32-bit frac: 0x9b05688c\n",
      "Prime: 15 → 32-bit frac: 0xdf7bd629\n",
      "Prime: 17 → 32-bit frac: 0x1f83d9ab\n",
      "Prime: 19 → 32-bit frac: 0x5be0cd19\n",
      "Prime: 21 → 32-bit frac: 0x9523ae45\n",
      "Prime: 23 → 32-bit frac: 0xcbbb9d5d\n",
      "Prime: 25 → 32-bit frac: 0x00000000\n",
      "Prime: 27 → 32-bit frac: 0x32370b90\n",
      "Prime: 29 → 32-bit frac: 0x629a292a\n",
      "Prime: 31 → 32-bit frac: 0x9159015a\n",
      "Prime: 33 → 32-bit frac: 0xbe9ba858\n",
      "Prime: 35 → 32-bit frac: 0xea843464\n",
      "Prime: 37 → 32-bit frac: 0x152fecd8\n",
      "Prime: 39 → 32-bit frac: 0x3eb83056\n",
      "Prime: 41 → 32-bit frac: 0x67332667\n",
      "Prime: 43 → 32-bit frac: 0x8eb44a87\n",
      "Prime: 45 → 32-bit frac: 0xb54cda58\n",
      "Prime: 47 → 32-bit frac: 0xdb0c2e0d\n",
      "Prime: 49 → 32-bit frac: 0x00000000\n",
      "Prime: 51 → 32-bit frac: 0x2434a74b\n",
      "Prime: 53 → 32-bit frac: 0x47b5481d\n",
      "Prime: 55 → 32-bit frac: 0x6a8bfbea\n",
      "Prime: 57 → 32-bit frac: 0x8cc1f315\n",
      "Prime: 59 → 32-bit frac: 0xae5f9156\n",
      "Prime: 61 → 32-bit frac: 0xcf6c85d3\n",
      "Prime: 63 → 32-bit frac: 0xefefdfaf\n",
      "Prime: 65 → 32-bit frac: 0x0ff01fb0\n",
      "Prime: 67 → 32-bit frac: 0x2f73477d\n",
      "Prime: 69 → 32-bit frac: 0x4e7ee6c7\n",
      "Prime: 71 → 32-bit frac: 0x6d1826ca\n",
      "Prime: 73 → 32-bit frac: 0x8b43d457\n",
      "Prime: 75 → 32-bit frac: 0xa906689b\n",
      "Prime: 77 → 32-bit frac: 0xc66410eb\n",
      "Prime: 79 → 32-bit frac: 0xe360b596\n",
      "Prime: 81 → 32-bit frac: 0x00000000\n",
      "Prime: 83 → 32-bit frac: 0x1c456002\n",
      "Prime: 85 → 32-bit frac: 0x383410c8\n",
      "Prime: 87 → 32-bit frac: 0x53cf1d16\n",
      "Prime: 89 → 32-bit frac: 0x6f196331\n",
      "Prime: 91 → 32-bit frac: 0x8a159854\n",
      "Prime: 93 → 32-bit frac: 0xa4c64bd8\n",
      "Prime: 95 → 32-bit frac: 0xbf2dea07\n",
      "Prime: 97 → 32-bit frac: 0xd94ebeb1\n",
      "Prime: 99 → 32-bit frac: 0xf32af77f\n",
      "Prime: 101 → 32-bit frac: 0x0cc4a611\n",
      "Prime: 103 → 32-bit frac: 0x261dc1f2\n",
      "Prime: 105 → 32-bit frac: 0x3f382a57\n",
      "Prime: 107 → 32-bit frac: 0x5815a7be\n",
      "Prime: 109 → 32-bit frac: 0x70b7ed67\n",
      "Prime: 111 → 32-bit frac: 0x89209ab6\n",
      "Prime: 113 → 32-bit frac: 0xa1513c69\n",
      "Prime: 115 → 32-bit frac: 0xb94b4dc5\n",
      "Prime: 117 → 32-bit frac: 0xd11039a4\n",
      "Prime: 119 → 32-bit frac: 0xe8a15b6d\n",
      "Prime: 121 → 32-bit frac: 0x00000000\n",
      "Prime: 123 → 32-bit frac: 0x172d6686\n",
      "Prime: 125 → 32-bit frac: 0x2e2ac13e\n",
      "Prime: 127 → 32-bit frac: 0x44f93635\n",
      "Prime: 129 → 32-bit frac: 0x5b99dfec\n",
      "Prime: 131 → 32-bit frac: 0x720dcdfd\n",
      "Prime: 133 → 32-bit frac: 0x885605af\n",
      "Prime: 135 → 32-bit frac: 0x9e73827d\n",
      "Prime: 137 → 32-bit frac: 0xb467369e\n",
      "Prime: 139 → 32-bit frac: 0xca320b75\n",
      "Prime: 141 → 32-bit frac: 0xdfd4e20d\n",
      "Prime: 143 → 32-bit frac: 0xf5509378\n",
      "Prime: 145 → 32-bit frac: 0x0aa5f13b\n",
      "Prime: 147 → 32-bit frac: 0x1fd5c5a6\n",
      "Prime: 149 → 32-bit frac: 0x34e0d42e\n",
      "Prime: 151 → 32-bit frac: 0x49c7d9bd\n",
      "Prime: 153 → 32-bit frac: 0x5e8b8d03\n",
      "Prime: 155 → 32-bit frac: 0x732c9ebb\n",
      "Prime: 157 → 32-bit frac: 0x87abb9f2\n",
      "Prime: 159 → 32-bit frac: 0x9c098444\n",
      "Prime: 161 → 32-bit frac: 0xb0469e20\n",
      "Prime: 163 → 32-bit frac: 0xc463a2fc\n",
      "Prime: 165 → 32-bit frac: 0xd861298a\n",
      "Prime: 167 → 32-bit frac: 0xec3fc3f3\n",
      "Prime: 169 → 32-bit frac: 0x00000000\n",
      "Prime: 171 → 32-bit frac: 0x13a2674b\n",
      "Prime: 173 → 32-bit frac: 0x27277f6d\n",
      "Prime: 175 → 32-bit frac: 0x3a8fca23\n",
      "Prime: 177 → 32-bit frac: 0x4ddbc57b\n",
      "Prime: 179 → 32-bit frac: 0x610bebf2\n",
      "Prime: 181 → 32-bit frac: 0x7420b49e\n",
      "Prime: 183 → 32-bit frac: 0x871a934d\n",
      "Prime: 185 → 32-bit frac: 0x99f9f8a4\n",
      "Prime: 187 → 32-bit frac: 0xacbf523f\n",
      "Prime: 189 → 32-bit frac: 0xbf6b0acf\n",
      "Prime: 191 → 32-bit frac: 0xd1fd8a33\n",
      "Prime: 193 → 32-bit frac: 0xe4773594\n",
      "Prime: 195 → 32-bit frac: 0xf6d86f7d\n",
      "Prime: 197 → 32-bit frac: 0x092197f6\n",
      "Prime: 199 → 32-bit frac: 0x1b530c95\n",
      "Prime: 201 → 32-bit frac: 0x2d6d289d\n",
      "Prime: 203 → 32-bit frac: 0x3f704507\n"
     ]
    }
   ],
   "source": [
    "primes = primes_trial_division(100)\n",
    "root_bits = get_root_bits(primes)\n",
    "\n",
    "for i, bits in enumerate(root_bits):\n",
    "     print(f\"Prime: {primes[i]} → 32-bit frac: {bits:#010x}\")"
   ]
  },
  {
   "cell_type": "markdown",
   "metadata": {},
   "source": [
    "### Research Perspective: \n",
    "- This technique is used when designing ryptographic algorithms like **SHA-256** \n",
    "- These values look random, but they always come out the same — which is perfect for something that needs to be both secure and reliable.\n",
    "# END TO TASK 5\n",
    "\n",
    "## Task 6: Proof of Work\n",
    "\n",
    "## Setup: \n",
    "- Use this line to downloade the requirements to do the task - !pip install nltk\n",
    "- Run this import nltk nltk.download('words') \n",
    "\n",
    "## Explanation:\n",
    "- This task finds the word in the English language that has the most `0` bits at the **start of its SHA-256 \n",
    "hash**.\n",
    "- SHA-256 is a secure hash function used in cryptography and blockchain.\n",
    "- This idea is part of the “proof of work” system used in things like Bitcoin mining.\n"
   ]
  },
  {
   "cell_type": "code",
   "execution_count": 49,
   "metadata": {},
   "outputs": [],
   "source": [
    "def leading_zeros(word):\n",
    "    hash_hex = hashlib.sha256(word.encode()).hexdigest()\n",
    "    hash_bin = bin(int(hash_hex, 16))[2:].zfill(256)\n",
    "    return len(hash_bin) - len(hash_bin.lstrip('0'))  "
   ]
  },
  {
   "cell_type": "code",
   "execution_count": 50,
   "metadata": {},
   "outputs": [],
   "source": [
    "with open(\"words.txt\") as f:\n",
    "    word_list = [line.strip().lower() for line in f if line.strip().isalpha()]\n",
    "    \n",
    "# Track the best result\n",
    "best_word = \"\"\n",
    "max_zeros = 0\n",
    "\n",
    "for word in word_list:\n",
    "    zeros = leading_zeros(word)\n",
    "    if zeros > max_zeros:\n",
    "        best_word = word\n",
    "        max_zeros = zeros"
   ]
  },
  {
   "cell_type": "code",
   "execution_count": 51,
   "metadata": {},
   "outputs": [
    {
     "name": "stdout",
     "output_type": "stream",
     "text": [
      "Best word: 'grady' with 15 leading zero bits in SHA-256 hash.\n"
     ]
    }
   ],
   "source": [
    "print(f\"Best word: '{best_word}' with {max_zeros} leading zero bits in SHA-256 hash.\")"
   ]
  },
  {
   "cell_type": "markdown",
   "metadata": {},
   "source": [
    "# END TO TASK 6\n",
    "\n",
    "## Task 7: Turing Machines"
   ]
  },
  {
   "cell_type": "markdown",
   "metadata": {},
   "source": [
    "### Research Perspective: \n",
    "\n",
    "\n",
    "# END TO TASK 7"
   ]
  }
 ],
 "metadata": {
  "kernelspec": {
   "display_name": "Python 3",
   "language": "python",
   "name": "python3"
  },
  "language_info": {
   "codemirror_mode": {
    "name": "ipython",
    "version": 3
   },
   "file_extension": ".py",
   "mimetype": "text/x-python",
   "name": "python",
   "nbconvert_exporter": "python",
   "pygments_lexer": "ipython3",
   "version": "3.12.1"
  }
 },
 "nbformat": 4,
 "nbformat_minor": 2
}
