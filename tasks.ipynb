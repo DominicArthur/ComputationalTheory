{
 "cells": [
  {
   "cell_type": "code",
   "execution_count": 34,
   "metadata": {},
   "outputs": [],
   "source": [
    "import numpy\n",
    "import matplotlib\n",
    "import pandas\n",
    "import os"
   ]
  },
  {
   "cell_type": "markdown",
   "metadata": {},
   "source": [
    "# Task 1\n",
    "## Rotate Left Function \n",
    "\n",
    "### Explanation:\n",
    "- The bits go past the left and around to the right.\n",
    "- This creates a circle shift.\n",
    "- 4-bit (`0b1111`) to keep results within 4 bits.\n",
    "\n",
    "## Rotate Right Function\n",
    "- \n",
    "\n",
    "## Choice Function\n",
    "- \n",
    "\n",
    "## Majority Function\n",
    "- "
   ]
  },
  {
   "cell_type": "code",
   "execution_count": 35,
   "metadata": {},
   "outputs": [],
   "source": [
    "def rotl(x, n=1):\n",
    "    # Rotate bits of a 32-bit unsigned integer to the left by n positions\n",
    "    n = n % 4  \n",
    "    return ((x << n) & 0b1111) | (x >> (4 - n))  \n",
    "\n",
    "def rotr(x, n=1):\n",
    "    # Rotate bits of a 4-bit unsigned integer to the right by n positions\n",
    "    n = n % 4  \n",
    "    return ((x >> n) | (x << (4 - n))) & 0b1111   \n",
    "\n",
    "def ch(x, y, z):\n",
    "    # Choose bits from y where x is 1, and from z where x is 0\n",
    "    return (x & y) ^ (~x & z)\n",
    "\n",
    "def maj(x, y, z):\n",
    "     # Choose 1 if at least two of x, y, or z are 1\n",
    "    return (x & y) | (x & z) | (y & z)"
   ]
  },
  {
   "cell_type": "code",
   "execution_count": 36,
   "metadata": {},
   "outputs": [
    {
     "name": "stdout",
     "output_type": "stream",
     "text": [
      "Original: 0b1100 (12)\n",
      "x = 0b1100 (12)\n",
      "y = 0b1010 (10)\n",
      "z = 0b110 (6)\n",
      "Rotated Left: 0b1001 (9)\n",
      "Rotated Right: 0b110 (6)\n",
      "ch(x, y, z) = 0b1010 (10)\n",
      "maj(x, y, z) = 0b1110 (14)\n"
     ]
    }
   ],
   "source": [
    "x, y, z = 0b1100, 0b1010, 0b0110\n",
    "rotated_x = rotl(x, 1)  # Rotate left by 1 bit\n",
    "\n",
    "print(f\"Original: {bin(x)} ({x})\")\n",
    "print(f\"x = {bin(x)} ({x})\")\n",
    "print(f\"y = {bin(y)} ({y})\")\n",
    "print(f\"z = {bin(z)} ({z})\")\n",
    "\n",
    "# Test rotate left\n",
    "print(f\"Rotated Left: {bin(rotated_x)} ({rotated_x})\")\n",
    "\n",
    "# Test rotate right\n",
    "rotr_x = rotr(x, 1)\n",
    "print(f\"Rotated Right: {bin(rotr_x)} ({rotr_x})\")\n",
    "\n",
    "# Test ch function\n",
    "ch_result = ch(x, y, z)\n",
    "print(f\"ch(x, y, z) = {bin(ch_result)} ({ch_result})\")\n",
    "\n",
    "# Test maj function\n",
    "maj_result = maj(x, y, z)\n",
    "print(f\"maj(x, y, z) = {bin(maj_result)} ({maj_result})\")"
   ]
  },
  {
   "cell_type": "markdown",
   "metadata": {},
   "source": [
    "# END TO TASK 1\n",
    "## Task 2: Conversion, C - Python\n",
    "\n",
    "### Explanation:"
   ]
  },
  {
   "cell_type": "code",
   "execution_count": 37,
   "metadata": {},
   "outputs": [],
   "source": [
    "def hash_function(s):\n",
    "    hashval = 0\n",
    "    for char in s:\n",
    "        hashval = ord(char) + 31 * hashval  \n",
    "    return hashval % 101"
   ]
  },
  {
   "cell_type": "code",
   "execution_count": 38,
   "metadata": {},
   "outputs": [
    {
     "name": "stdout",
     "output_type": "stream",
     "text": [
      "hash_function('hello') = 17\n",
      "hash_function('world') = 34\n",
      "hash_function('hash') = 15\n",
      "hash_function('function') = 100\n",
      "hash_function('test') = 86\n",
      "hash_function('python') = 91\n"
     ]
    }
   ],
   "source": [
    "# Test cases with expected outputs\n",
    "test_strings = [\"hello\", \"world\", \"hash\", \"function\", \"test\", \"python\"]\n",
    "\n",
    "for s in test_strings:\n",
    "    print(f\"hash_function('{s}') = {hash_function(s)}\")"
   ]
  },
  {
   "cell_type": "markdown",
   "metadata": {},
   "source": [
    "# END TO TASK 2\n",
    "## Task 3: SHA256\n",
    "\n",
    "### Explanation:"
   ]
  },
  {
   "cell_type": "code",
   "execution_count": 39,
   "metadata": {},
   "outputs": [],
   "source": [
    "def sha256_pad(file_path):\n",
    "    with open(file_path, 'rb') as f:\n",
    "        original = f.read()\n",
    "\n",
    "    length = len(original) * 8  # length in bits\n",
    "    data = original + b'\\x80'\n",
    "\n",
    "    while (len(data) * 8) % 512 != 448:\n",
    "        data += b'\\x00'\n",
    "\n",
    "    data += length.to_bytes(8, 'big')\n",
    "\n",
    "    padding = data[len(original):]\n",
    "    print(' '.join(f'{b:02x}' for b in padding))"
   ]
  },
  {
   "cell_type": "code",
   "execution_count": 40,
   "metadata": {},
   "outputs": [
    {
     "name": "stdout",
     "output_type": "stream",
     "text": [
      "80 00 00 00 00 00 00 00 00 00 00 00 00 00 00 00 00 00 00 00 00 00 00 00 00 00 00 00 00 00 00 00 00 00 00 00 00 00 00 00 00 00 00 00 00 00 00 00 00 00 00 00 00 00 00 00 00 00 00 00 18\n"
     ]
    }
   ],
   "source": [
    "# Create the test file with some content\n",
    "with open(\"test.txt\", \"w\") as f:\n",
    "    f.write(\"abc\")\n",
    "\n",
    "# Then run the padding function\n",
    "sha256_pad(\"test.txt\")"
   ]
  },
  {
   "cell_type": "markdown",
   "metadata": {},
   "source": [
    "# END TO TASK 3\n",
    "## Task 4: Prime Numbers\n",
    "\n",
    "### Explanation: Calculate the first 100 prime numbers using two different algorithms:\n",
    "### Method 1: Trial Division\n",
    "This method will check if a number is divisible by any number from 2 - √n\n",
    "If it is not divisible, it's considered prime. This method is slower but simpler\n",
    "\n",
    "### Method 2: Sieve of Eratosthenes\n",
    "This method creates a list of possible primes and removes multiples of each number.\n",
    "More efficient and better for generating many primes."
   ]
  },
  {
   "cell_type": "code",
   "execution_count": 41,
   "metadata": {},
   "outputs": [],
   "source": [
    "def is_prime(n):\n",
    "    if n < 2:\n",
    "        return False\n",
    "    for i in range(2, int(n**0.5) + 1):\n",
    "        if n % i == 0:\n",
    "            return False\n",
    "        return True"
   ]
  },
  {
   "cell_type": "code",
   "execution_count": 42,
   "metadata": {},
   "outputs": [],
   "source": [
    "def primes_trial_division(limit):\n",
    "    primes = []\n",
    "    num = 2\n",
    "    while len(primes) < limit:\n",
    "        if is_prime(num):\n",
    "            primes.append(num)\n",
    "        num += 1\n",
    "    return primes"
   ]
  },
  {
   "cell_type": "code",
   "execution_count": 43,
   "metadata": {},
   "outputs": [],
   "source": [
    "def sieve_of_eratosthenes(n):\n",
    "    size = 600\n",
    "    is_prime = [True] * size\n",
    "    is_prime[0] = is_prime[1] = False\n",
    "\n",
    "    for i in range(2, int(size**0.5) + 1):\n",
    "        if is_prime[i]:\n",
    "            for j in range(i*i, size, i):\n",
    "                is_prime[j] = False\n",
    "            \n",
    "    primes = [i for i, val in enumerate(is_prime) if val]\n",
    "    return primes[:n]"
   ]
  },
  {
   "cell_type": "code",
   "execution_count": 44,
   "metadata": {},
   "outputs": [
    {
     "name": "stdout",
     "output_type": "stream",
     "text": [
      "Trial Division:\n",
      " [5, 7, 9, 11, 13, 15, 17, 19, 21, 23, 25, 27, 29, 31, 33, 35, 37, 39, 41, 43, 45, 47, 49, 51, 53, 55, 57, 59, 61, 63, 65, 67, 69, 71, 73, 75, 77, 79, 81, 83, 85, 87, 89, 91, 93, 95, 97, 99, 101, 103, 105, 107, 109, 111, 113, 115, 117, 119, 121, 123, 125, 127, 129, 131, 133, 135, 137, 139, 141, 143, 145, 147, 149, 151, 153, 155, 157, 159, 161, 163, 165, 167, 169, 171, 173, 175, 177, 179, 181, 183, 185, 187, 189, 191, 193, 195, 197, 199, 201, 203]\n",
      "\n",
      "Sieve of Eratosthenes:\n",
      " [2, 3, 5, 7, 11, 13, 17, 19, 23, 29, 31, 37, 41, 43, 47, 53, 59, 61, 67, 71, 73, 79, 83, 89, 97, 101, 103, 107, 109, 113, 127, 131, 137, 139, 149, 151, 157, 163, 167, 173, 179, 181, 191, 193, 197, 199, 211, 223, 227, 229, 233, 239, 241, 251, 257, 263, 269, 271, 277, 281, 283, 293, 307, 311, 313, 317, 331, 337, 347, 349, 353, 359, 367, 373, 379, 383, 389, 397, 401, 409, 419, 421, 431, 433, 439, 443, 449, 457, 461, 463, 467, 479, 487, 491, 499, 503, 509, 521, 523, 541]\n"
     ]
    }
   ],
   "source": [
    "print(\"Trial Division:\\n\", primes_trial_division(100))\n",
    "print(\"\\nSieve of Eratosthenes:\\n\", sieve_of_eratosthenes(100))"
   ]
  },
  {
   "cell_type": "markdown",
   "metadata": {},
   "source": [
    "### Comparing the Results:\n",
    "Both methods do the job, they correctly generate the first 100 prime numbers.\n",
    "But Sieve of Eratosthenes is faster for bigger listrs, but Trial Division is much easier to understand.\n",
    "\n",
    "# END TO TASK 4\n",
    "\n",
    "## Task 5: Roots"
   ]
  }
 ],
 "metadata": {
  "kernelspec": {
   "display_name": "Python 3",
   "language": "python",
   "name": "python3"
  },
  "language_info": {
   "codemirror_mode": {
    "name": "ipython",
    "version": 3
   },
   "file_extension": ".py",
   "mimetype": "text/x-python",
   "name": "python",
   "nbconvert_exporter": "python",
   "pygments_lexer": "ipython3",
   "version": "3.12.1"
  }
 },
 "nbformat": 4,
 "nbformat_minor": 2
}
