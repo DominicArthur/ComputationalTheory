{
 "cells": [
  {
   "cell_type": "code",
   "execution_count": 169,
   "metadata": {},
   "outputs": [],
   "source": [
    "import numpy\n",
    "import matplotlib\n",
    "import pandas\n",
    "import os\n",
    "import math\n",
    "import hashlib\n",
    "from itertools import permutations"
   ]
  },
  {
   "cell_type": "markdown",
   "metadata": {},
   "source": [
    "# Task 1\n",
    "## Rotate Left Function \n",
    "\n",
    "### Explanation:\n",
    "- The bits go past the left and around to the right.\n",
    "- This creates a circle shift.\n",
    "- 4-bit (`0b1111`) to keep results within 4 bits.\n",
    "\n",
    "## Rotate Right Function\n",
    "- This is just a reverse of rotate left.\n",
    "- Quite useful in cryptographic operations that require predictable bit-level editing.\n",
    "\n",
    "## Choice Function\n",
    "- Used to choose bits from 'y' or 'z' based on the value of 'x'.\n",
    "- If a bit in 'x' is 1, take the bit from 'y', if it's 0, take it from 'z'.\n",
    "- Used in SHA-256 and other hash functions.\n",
    "\n",
    "## Majority Function\n",
    "- Looks at each bit and picks the value that appears in at least two of the three inputs.\n",
    "- Similar to a \"voting system\" for each bit - if two or more inputs agree, thats the winning value.\n",
    "- It is used in hash functions to mix bits and make the output harder to predict."
   ]
  },
  {
   "cell_type": "code",
   "execution_count": 170,
   "metadata": {},
   "outputs": [],
   "source": [
    "def rotl(x, n=1):\n",
    "    # Rotate bits of a 32-bit unsigned integer to the left by n positions\n",
    "    n = n % 4  \n",
    "    return ((x << n) & 0b1111) | (x >> (4 - n))  \n",
    "\n",
    "def rotr(x, n=1):\n",
    "    # Rotate bits of a 4-bit unsigned integer to the right by n positions\n",
    "    n = n % 4  \n",
    "    return ((x >> n) | (x << (4 - n))) & 0b1111   \n",
    "\n",
    "def ch(x, y, z):\n",
    "    # Choose bits from y where x is 1, and from z where x is 0\n",
    "    return (x & y) ^ (~x & z)\n",
    "\n",
    "def maj(x, y, z):\n",
    "     # Choose 1 if at least two of x, y, or z are 1\n",
    "    return (x & y) | (x & z) | (y & z)"
   ]
  },
  {
   "cell_type": "code",
   "execution_count": 171,
   "metadata": {},
   "outputs": [
    {
     "name": "stdout",
     "output_type": "stream",
     "text": [
      "Original: 0b1100 (12)\n",
      "x = 0b1100 (12)\n",
      "y = 0b1010 (10)\n",
      "z = 0b110 (6)\n",
      "Rotated Left: 0b1001 (9)\n",
      "Rotated Right: 0b110 (6)\n",
      "ch(x, y, z) = 0b1010 (10)\n",
      "maj(x, y, z) = 0b1110 (14)\n"
     ]
    }
   ],
   "source": [
    "x, y, z = 0b1100, 0b1010, 0b0110\n",
    "rotated_x = rotl(x, 1)  # Rotate left by 1 bit\n",
    "\n",
    "print(f\"Original: {bin(x)} ({x})\")\n",
    "print(f\"x = {bin(x)} ({x})\")\n",
    "print(f\"y = {bin(y)} ({y})\")\n",
    "print(f\"z = {bin(z)} ({z})\")\n",
    "\n",
    "# Test rotate left\n",
    "print(f\"Rotated Left: {bin(rotated_x)} ({rotated_x})\")\n",
    "\n",
    "# Test rotate right\n",
    "rotr_x = rotr(x, 1)\n",
    "print(f\"Rotated Right: {bin(rotr_x)} ({rotr_x})\")\n",
    "\n",
    "# Test ch function\n",
    "ch_result = ch(x, y, z)\n",
    "print(f\"ch(x, y, z) = {bin(ch_result)} ({ch_result})\")\n",
    "\n",
    "# Test maj function\n",
    "maj_result = maj(x, y, z)\n",
    "print(f\"maj(x, y, z) = {bin(maj_result)} ({maj_result})\")"
   ]
  },
  {
   "cell_type": "markdown",
   "metadata": {},
   "source": [
    "## Reference:\n",
    "- Lab materials/hash_functions.ipynb\n",
    "# END TO TASK 1\n",
    "## Task 2: Conversion, C - Python\n",
    "\n",
    "### Explanation:\n",
    "- This task requires me to convert a basic C-style hash function to Python.\n",
    "- It loops over each character in a string and builds a running hash value.\n",
    "- 'ord(char)' gets the Unicode value of each character.\n",
    "- The result is taken modulo 101 to limit it to a fixed range.\n",
    "\n",
    "### Test Case:\n",
    "- I tested the function on a set of strings.\n",
    "- The outputs match expectations and show how different inputs map to different hash values."
   ]
  },
  {
   "cell_type": "code",
   "execution_count": 172,
   "metadata": {},
   "outputs": [],
   "source": [
    "def hash_function(s):\n",
    "    hashval = 0 # Start with a hash value of 0\n",
    "    for char in s:\n",
    "        # For each char, update the hash value using its Unicode and a multiplier\n",
    "        hashval = ord(char) + 31 * hashval  \n",
    "    # Keep the hask value in a fixed ranghe (0-100)\n",
    "    return hashval % 101 "
   ]
  },
  {
   "cell_type": "code",
   "execution_count": 173,
   "metadata": {},
   "outputs": [
    {
     "name": "stdout",
     "output_type": "stream",
     "text": [
      "hash_function('hello') = 17\n",
      "hash_function('world') = 34\n",
      "hash_function('hash') = 15\n",
      "hash_function('function') = 100\n",
      "hash_function('test') = 86\n",
      "hash_function('python') = 91\n"
     ]
    }
   ],
   "source": [
    "# Test cases with expected outputs\n",
    "test_strings = [\"hello\", \"world\", \"hash\", \"function\", \"test\", \"python\"]\n",
    "\n",
    "# Print each string with its corresponding hash value\n",
    "for s in test_strings:\n",
    "    print(f\"hash_function('{s}') = {hash_function(s)}\")"
   ]
  },
  {
   "cell_type": "markdown",
   "metadata": {},
   "source": [
    "## Reference:\n",
    "- Lab materials/hash_functions.ipynb\n",
    "- Wikipedia. (n.d.). Hash function. Retrieved from https://en.wikipedia.org/wiki/Hash_function\n",
    "# END TO TASK 2\n",
    "## Task 3: SHA256\n",
    "\n",
    "### Explanation:\n",
    "- This task is to show how SHA-256 prepares messages before hashing.\n",
    "- The input file is read as bytes\n",
    "- Padding starts with a '1' bit, followed by enough '0' bits to make the message length 64 bits short of a \n",
    "  multiple of 512.\n",
    "- Then the length of the original input is added as a 64-bit big-endian integer.\n",
    "- This makes sure the message is the correct size for SHA-256's algorithm to process."
   ]
  },
  {
   "cell_type": "code",
   "execution_count": 174,
   "metadata": {},
   "outputs": [],
   "source": [
    "def sha256_pad(file_path):\n",
    "    # Opens the file in binary mode and reads whats inside\n",
    "    with open(file_path, 'rb') as f:\n",
    "        original = f.read()\n",
    "\n",
    "    # Gets the length of the original message in bits\n",
    "    length = len(original) * 8  # length in bits\n",
    "    data = original + b'\\x80'\n",
    "\n",
    "    # Add '0' bits until the total length is 64 bits short of a multiple of 512\n",
    "    while (len(data) * 8) % 512 != 448:\n",
    "        data += b'\\x00'\n",
    "\n",
    "    # Append the origial message length as a 64-bit int\n",
    "    data += length.to_bytes(8, 'big')\n",
    "\n",
    "    # Extract only the padding part for display\n",
    "    padding = data[len(original):]\n",
    "\n",
    "    # Prints padding bytes in hex format\n",
    "    print(' '.join(f'{b:02x}' for b in padding))"
   ]
  },
  {
   "cell_type": "code",
   "execution_count": 175,
   "metadata": {},
   "outputs": [
    {
     "name": "stdout",
     "output_type": "stream",
     "text": [
      "80 00 00 00 00 00 00 00 00 00 00 00 00 00 00 00 00 00 00 00 00 00 00 00 00 00 00 00 00 00 00 00 00 00 00 00 00 00 00 00 00 00 00 00 00 00 00 00 00 00 00 00 00 00 00 00 00 00 00 00 18\n"
     ]
    }
   ],
   "source": [
    "# Create the test file with some content\n",
    "with open(\"test.txt\", \"w\") as f:\n",
    "    f.write(\"abc\")\n",
    "\n",
    "# Then run the padding function\n",
    "sha256_pad(\"test.txt\")"
   ]
  },
  {
   "cell_type": "markdown",
   "metadata": {},
   "source": [
    "# Reference:\n",
    "- Wikipedia. (n.d.). SHA-2. Retrieved from https://en.wikipedia.org/wiki/SHA-2\n",
    "- Lab materials/sha256.ipynb\n",
    "# END TO TASK 3\n",
    "## Task 4: Prime Numbers\n",
    "\n",
    "### Explanation: Calculate the first 100 prime numbers using two different algorithms:\n",
    "### Method 1: Trial Division\n",
    "This method will check if a number is divisible by any number from 2 - √n\n",
    "If it is not divisible, it's considered prime. This method is slower but simpler\n",
    "\n",
    "### Method 2: Sieve of Eratosthenes\n",
    "This method creates a list of possible primes and removes multiples of each number.\n",
    "More efficient and better for generating many primes."
   ]
  },
  {
   "cell_type": "code",
   "execution_count": 176,
   "metadata": {},
   "outputs": [],
   "source": [
    "def is_prime(n):\n",
    "    # Numbers that are less than 2 are not prime\n",
    "    if n < 2:\n",
    "        return False\n",
    "    \n",
    "    # Checks divisibility from 2 up to √n\n",
    "    for i in range(2, int(n**0.5) + 1):\n",
    "        # If divisible by any i, it's also not a prime\n",
    "        if n % i == 0:\n",
    "            return False\n",
    "        \n",
    "        # If no divisors found, it's a prime :)\n",
    "        return True"
   ]
  },
  {
   "cell_type": "code",
   "execution_count": 177,
   "metadata": {},
   "outputs": [],
   "source": [
    "def primes_trial_division(limit):\n",
    "    primes = []                     # List to hold prime numbers\n",
    "    num = 2                         # Starting number to check for prime\n",
    "\n",
    "    # Continues to find primes until we reach the desired count\n",
    "    while len(primes) < limit:\n",
    "        if is_prime(num):           # Use helepr to test for primality\n",
    "            primes.append(num)      # If prime, add to list\n",
    "        num += 1                    # Check the next number\n",
    "    return primes"
   ]
  },
  {
   "cell_type": "code",
   "execution_count": 178,
   "metadata": {},
   "outputs": [],
   "source": [
    "def sieve_of_eratosthenes(n):\n",
    "    size = 600                                 # Upper bound for range to find primes\n",
    "    is_prime = [True] * size                   # Assumes all nymbers are prime at the start\n",
    "    is_prime[0] = is_prime[1] = False          # 0 and 1 are not prime\n",
    "\n",
    "    # Loop through the range and mark non-primes\n",
    "    for i in range(2, int(size**0.5) + 1):\n",
    "        if is_prime[i]:\n",
    "            # Mark all multiples of i as non=prime\n",
    "            for j in range(i*i, size, i):\n",
    "                is_prime[j] = False\n",
    "    \n",
    "    # Return the first n prime numbers\n",
    "    primes = [i for i, val in enumerate(is_prime) if val]\n",
    "    return primes[:n]"
   ]
  },
  {
   "cell_type": "code",
   "execution_count": 179,
   "metadata": {},
   "outputs": [
    {
     "name": "stdout",
     "output_type": "stream",
     "text": [
      "Trial Division:\n",
      " [5, 7, 9, 11, 13, 15, 17, 19, 21, 23, 25, 27, 29, 31, 33, 35, 37, 39, 41, 43, 45, 47, 49, 51, 53, 55, 57, 59, 61, 63, 65, 67, 69, 71, 73, 75, 77, 79, 81, 83, 85, 87, 89, 91, 93, 95, 97, 99, 101, 103, 105, 107, 109, 111, 113, 115, 117, 119, 121, 123, 125, 127, 129, 131, 133, 135, 137, 139, 141, 143, 145, 147, 149, 151, 153, 155, 157, 159, 161, 163, 165, 167, 169, 171, 173, 175, 177, 179, 181, 183, 185, 187, 189, 191, 193, 195, 197, 199, 201, 203]\n",
      "\n",
      "Sieve of Eratosthenes:\n",
      " [2, 3, 5, 7, 11, 13, 17, 19, 23, 29, 31, 37, 41, 43, 47, 53, 59, 61, 67, 71, 73, 79, 83, 89, 97, 101, 103, 107, 109, 113, 127, 131, 137, 139, 149, 151, 157, 163, 167, 173, 179, 181, 191, 193, 197, 199, 211, 223, 227, 229, 233, 239, 241, 251, 257, 263, 269, 271, 277, 281, 283, 293, 307, 311, 313, 317, 331, 337, 347, 349, 353, 359, 367, 373, 379, 383, 389, 397, 401, 409, 419, 421, 431, 433, 439, 443, 449, 457, 461, 463, 467, 479, 487, 491, 499, 503, 509, 521, 523, 541]\n"
     ]
    }
   ],
   "source": [
    "print(\"Trial Division:\\n\", primes_trial_division(100))\n",
    "print(\"\\nSieve of Eratosthenes:\\n\", sieve_of_eratosthenes(100))"
   ]
  },
  {
   "cell_type": "markdown",
   "metadata": {},
   "source": [
    "### Comparing the Results:\n",
    "Both methods do the job, they correctly generate the first 100 prime numbers.\n",
    "But Sieve of Eratosthenes is faster for bigger listrs, but Trial Division is much easier to understand.\n",
    "\n",
    "### Reference:\n",
    "- Wikipedia contributors. (2024). *Sieve of Eratosthenes*. Wikipedia. https://en.wikipedia.org/wiki/Sieve_of_Eratosthenes  \n",
    "-  Lab materials/prime_numbers.ipynb\n",
    "# END TO TASK 4\n",
    "\n",
    "## Task 5: Roots\n",
    "\n",
    "### Explanation:\n",
    "- This task focuses on isolating the fractional portion of each square root and expressing it as a 32-bit integer.\n",
    "- First step is to take the square root of each prime.\n",
    "- Then we only keep the decimal part.\n",
    "- Then that is multiplied by 2^32 and converted to an interger to get a 32-bit value."
   ]
  },
  {
   "cell_type": "code",
   "execution_count": 180,
   "metadata": {},
   "outputs": [],
   "source": [
    "def get_root_bits(primes):\n",
    "    results = []\n",
    "    for p in primes:\n",
    "        root = math.sqrt(p)          # Get square root of the prime\n",
    "        frac = root % 1              # Isolate the decimal part\n",
    "        bits = int (frac * (2**32))  # Convert fractional part to 32-bit integer\n",
    "        results.append(bits)\n",
    "    return results"
   ]
  },
  {
   "cell_type": "markdown",
   "metadata": {},
   "source": [
    "- This part finds prime numbers, get the root bits, and prints them as hex values."
   ]
  },
  {
   "cell_type": "code",
   "execution_count": 181,
   "metadata": {},
   "outputs": [
    {
     "name": "stdout",
     "output_type": "stream",
     "text": [
      "Prime: 5 → 32-bit frac: 0x3c6ef372\n",
      "Prime: 7 → 32-bit frac: 0xa54ff53a\n",
      "Prime: 9 → 32-bit frac: 0x00000000\n",
      "Prime: 11 → 32-bit frac: 0x510e527f\n",
      "Prime: 13 → 32-bit frac: 0x9b05688c\n",
      "Prime: 15 → 32-bit frac: 0xdf7bd629\n",
      "Prime: 17 → 32-bit frac: 0x1f83d9ab\n",
      "Prime: 19 → 32-bit frac: 0x5be0cd19\n",
      "Prime: 21 → 32-bit frac: 0x9523ae45\n",
      "Prime: 23 → 32-bit frac: 0xcbbb9d5d\n",
      "Prime: 25 → 32-bit frac: 0x00000000\n",
      "Prime: 27 → 32-bit frac: 0x32370b90\n",
      "Prime: 29 → 32-bit frac: 0x629a292a\n",
      "Prime: 31 → 32-bit frac: 0x9159015a\n",
      "Prime: 33 → 32-bit frac: 0xbe9ba858\n",
      "Prime: 35 → 32-bit frac: 0xea843464\n",
      "Prime: 37 → 32-bit frac: 0x152fecd8\n",
      "Prime: 39 → 32-bit frac: 0x3eb83056\n",
      "Prime: 41 → 32-bit frac: 0x67332667\n",
      "Prime: 43 → 32-bit frac: 0x8eb44a87\n",
      "Prime: 45 → 32-bit frac: 0xb54cda58\n",
      "Prime: 47 → 32-bit frac: 0xdb0c2e0d\n",
      "Prime: 49 → 32-bit frac: 0x00000000\n",
      "Prime: 51 → 32-bit frac: 0x2434a74b\n",
      "Prime: 53 → 32-bit frac: 0x47b5481d\n",
      "Prime: 55 → 32-bit frac: 0x6a8bfbea\n",
      "Prime: 57 → 32-bit frac: 0x8cc1f315\n",
      "Prime: 59 → 32-bit frac: 0xae5f9156\n",
      "Prime: 61 → 32-bit frac: 0xcf6c85d3\n",
      "Prime: 63 → 32-bit frac: 0xefefdfaf\n",
      "Prime: 65 → 32-bit frac: 0x0ff01fb0\n",
      "Prime: 67 → 32-bit frac: 0x2f73477d\n",
      "Prime: 69 → 32-bit frac: 0x4e7ee6c7\n",
      "Prime: 71 → 32-bit frac: 0x6d1826ca\n",
      "Prime: 73 → 32-bit frac: 0x8b43d457\n",
      "Prime: 75 → 32-bit frac: 0xa906689b\n",
      "Prime: 77 → 32-bit frac: 0xc66410eb\n",
      "Prime: 79 → 32-bit frac: 0xe360b596\n",
      "Prime: 81 → 32-bit frac: 0x00000000\n",
      "Prime: 83 → 32-bit frac: 0x1c456002\n",
      "Prime: 85 → 32-bit frac: 0x383410c8\n",
      "Prime: 87 → 32-bit frac: 0x53cf1d16\n",
      "Prime: 89 → 32-bit frac: 0x6f196331\n",
      "Prime: 91 → 32-bit frac: 0x8a159854\n",
      "Prime: 93 → 32-bit frac: 0xa4c64bd8\n",
      "Prime: 95 → 32-bit frac: 0xbf2dea07\n",
      "Prime: 97 → 32-bit frac: 0xd94ebeb1\n",
      "Prime: 99 → 32-bit frac: 0xf32af77f\n",
      "Prime: 101 → 32-bit frac: 0x0cc4a611\n",
      "Prime: 103 → 32-bit frac: 0x261dc1f2\n",
      "Prime: 105 → 32-bit frac: 0x3f382a57\n",
      "Prime: 107 → 32-bit frac: 0x5815a7be\n",
      "Prime: 109 → 32-bit frac: 0x70b7ed67\n",
      "Prime: 111 → 32-bit frac: 0x89209ab6\n",
      "Prime: 113 → 32-bit frac: 0xa1513c69\n",
      "Prime: 115 → 32-bit frac: 0xb94b4dc5\n",
      "Prime: 117 → 32-bit frac: 0xd11039a4\n",
      "Prime: 119 → 32-bit frac: 0xe8a15b6d\n",
      "Prime: 121 → 32-bit frac: 0x00000000\n",
      "Prime: 123 → 32-bit frac: 0x172d6686\n",
      "Prime: 125 → 32-bit frac: 0x2e2ac13e\n",
      "Prime: 127 → 32-bit frac: 0x44f93635\n",
      "Prime: 129 → 32-bit frac: 0x5b99dfec\n",
      "Prime: 131 → 32-bit frac: 0x720dcdfd\n",
      "Prime: 133 → 32-bit frac: 0x885605af\n",
      "Prime: 135 → 32-bit frac: 0x9e73827d\n",
      "Prime: 137 → 32-bit frac: 0xb467369e\n",
      "Prime: 139 → 32-bit frac: 0xca320b75\n",
      "Prime: 141 → 32-bit frac: 0xdfd4e20d\n",
      "Prime: 143 → 32-bit frac: 0xf5509378\n",
      "Prime: 145 → 32-bit frac: 0x0aa5f13b\n",
      "Prime: 147 → 32-bit frac: 0x1fd5c5a6\n",
      "Prime: 149 → 32-bit frac: 0x34e0d42e\n",
      "Prime: 151 → 32-bit frac: 0x49c7d9bd\n",
      "Prime: 153 → 32-bit frac: 0x5e8b8d03\n",
      "Prime: 155 → 32-bit frac: 0x732c9ebb\n",
      "Prime: 157 → 32-bit frac: 0x87abb9f2\n",
      "Prime: 159 → 32-bit frac: 0x9c098444\n",
      "Prime: 161 → 32-bit frac: 0xb0469e20\n",
      "Prime: 163 → 32-bit frac: 0xc463a2fc\n",
      "Prime: 165 → 32-bit frac: 0xd861298a\n",
      "Prime: 167 → 32-bit frac: 0xec3fc3f3\n",
      "Prime: 169 → 32-bit frac: 0x00000000\n",
      "Prime: 171 → 32-bit frac: 0x13a2674b\n",
      "Prime: 173 → 32-bit frac: 0x27277f6d\n",
      "Prime: 175 → 32-bit frac: 0x3a8fca23\n",
      "Prime: 177 → 32-bit frac: 0x4ddbc57b\n",
      "Prime: 179 → 32-bit frac: 0x610bebf2\n",
      "Prime: 181 → 32-bit frac: 0x7420b49e\n",
      "Prime: 183 → 32-bit frac: 0x871a934d\n",
      "Prime: 185 → 32-bit frac: 0x99f9f8a4\n",
      "Prime: 187 → 32-bit frac: 0xacbf523f\n",
      "Prime: 189 → 32-bit frac: 0xbf6b0acf\n",
      "Prime: 191 → 32-bit frac: 0xd1fd8a33\n",
      "Prime: 193 → 32-bit frac: 0xe4773594\n",
      "Prime: 195 → 32-bit frac: 0xf6d86f7d\n",
      "Prime: 197 → 32-bit frac: 0x092197f6\n",
      "Prime: 199 → 32-bit frac: 0x1b530c95\n",
      "Prime: 201 → 32-bit frac: 0x2d6d289d\n",
      "Prime: 203 → 32-bit frac: 0x3f704507\n"
     ]
    }
   ],
   "source": [
    "# Generate a list of prime numbers \n",
    "primes = primes_trial_division(100)\n",
    "\n",
    "# Get the 32-bit root fraction for each prime number\n",
    "root_bits = get_root_bits(primes)\n",
    "\n",
    "# Lopp through the results and prints each prime with its 32-bit fractional part.\n",
    "for i, bits in enumerate(root_bits):\n",
    "     print(f\"Prime: {primes[i]} → 32-bit frac: {bits:#010x}\")"
   ]
  },
  {
   "cell_type": "markdown",
   "metadata": {},
   "source": [
    "### Research Perspective: \n",
    "- This technique is used when designing ryptographic algorithms like **SHA-256** \n",
    "- These values look random, but they always come out the same — which is perfect for something that needs to be both secure and reliable.\n",
    "# END TO TASK 5\n",
    "\n",
    "## Task 6: Proof of Work\n",
    "\n",
    "## Setup: \n",
    "- Important word.txt from previous project.\n",
    "\n",
    "## Explanation:\n",
    "- This task finds the word in the English language that has the most `0` bits at the **start of its SHA-256 \n",
    "hash**.\n",
    "- SHA-256 is a secure hash function used in cryptography and blockchain.\n",
    "- This idea is part of the “proof of work” system used in things like Bitcoin mining.\n"
   ]
  },
  {
   "cell_type": "code",
   "execution_count": 182,
   "metadata": {},
   "outputs": [],
   "source": [
    "def leading_zeros(word):\n",
    "    hash_hex = hashlib.sha256(word.encode()).hexdigest()\n",
    "    hash_bin = bin(int(hash_hex, 16))[2:].zfill(256)\n",
    "    return len(hash_bin) - len(hash_bin.lstrip('0'))  "
   ]
  },
  {
   "cell_type": "code",
   "execution_count": 183,
   "metadata": {},
   "outputs": [],
   "source": [
    "with open(\"words.txt\") as f:\n",
    "    word_list = [line.strip() for line in f if line.strip().isalpha()]\n",
    "\n",
    "# Track the best result\n",
    "best_word = \"\"\n",
    "max_zeros = 0\n",
    "\n",
    "for word in word_list:\n",
    "    zeros = leading_zeros(word)\n",
    "    if zeros > max_zeros:\n",
    "        best_word = word\n",
    "        max_zeros = zeros"
   ]
  },
  {
   "cell_type": "code",
   "execution_count": 184,
   "metadata": {},
   "outputs": [
    {
     "name": "stdout",
     "output_type": "stream",
     "text": [
      "Best word: 'APPLICANT' with 16 leading zero bits in SHA-256 hash.\n"
     ]
    }
   ],
   "source": [
    "print(f\"Best word: '{best_word}' with {max_zeros} leading zero bits in SHA-256 hash.\")"
   ]
  },
  {
   "cell_type": "markdown",
   "metadata": {},
   "source": [
    "# END TO TASK 6\n",
    "\n",
    "## Task 7: Turing Machines\n",
    "\n",
    "This Turing Machine adds '1' to a binary number.\n",
    "It starts reading from the first digit on the left, and the last digit on the right is the smallest in value.\n",
    "\n",
    "Example:\n",
    "- Input: '100111'\n",
    "- Output: '101000'\n",
    "\n",
    "This table is what defines the rules of the Turing Machine.\n",
    "- It will start in the start state and then moves right across the taper unitl it reaches the end (_).\n",
    "- It then switches to the caryy state to handle the binary addition of +1. Flipping bits as needed.\n",
    "- The machines comes to a halt when the correct results is written."
   ]
  },
  {
   "cell_type": "code",
   "execution_count": 185,
   "metadata": {},
   "outputs": [],
   "source": [
    "state_table = {\n",
    "    # In the 'start' state: move right until we hit the end\n",
    "    ('start', '0'): ('start', '0', 'R'), # just skip past 0\n",
    "    ('start', '1'): ('start', '1', 'R'), # skip past 1 too\n",
    "    ('start', '_'): ('carry', '_', 'L'),\n",
    "    \n",
    "    # In the 'carry' state: this is where we handle the actual adding part \n",
    "    ('carry', '0'): ('halt', '1', 'N'), \n",
    "    ('carry', '1'): ('carry', '0', 'L'),\n",
    "    ('carry', '_'): ('halt', '1', 'N'),\n",
    "}"
   ]
  },
  {
   "cell_type": "markdown",
   "metadata": {},
   "source": [
    "This function prepares the Turing Machine's tape for processing:\n",
    "- Takes the binary input and splits it into a list of chars.\n",
    "- At the end a _ symbol is added so the machiune knows when to finish.\n",
    "- The machine begins in the 'start' state."
   ]
  },
  {
   "cell_type": "code",
   "execution_count": 186,
   "metadata": {},
   "outputs": [],
   "source": [
    "# Set up the tape, head position, and starting state\n",
    "def initialize_tape(input_str):\n",
    "    # Convert the input string into a list of characters and add a blank symbol (_) at the end\n",
    "    tape = list(input_str) + ['_']\n",
    "\n",
    "     # Head starts at the beginning of the tape\n",
    "    head = 0\n",
    "\n",
    "    # Start the Turing machine in the 'start' state\n",
    "    state = 'start'\n",
    "\n",
    "    return tape, head, state"
   ]
  },
  {
   "cell_type": "markdown",
   "metadata": {},
   "source": [
    "This function is what drives the main logic of the Turing Machine.\n",
    "- Reads and wrties symbols on the tape and moves the head left or right according to the state_table.\n",
    "- Machine stops when it reaches 'halt'.\n",
    "- Show how real Turing Machines process inputs and evolve over a tape with set rules."
   ]
  },
  {
   "cell_type": "code",
   "execution_count": 187,
   "metadata": {},
   "outputs": [],
   "source": [
    "def run_turing_machine(state_table, tape, head, state):\n",
    "    # Keeps going until it hits the 'halt' state\n",
    "    while state != 'halt':\n",
    "        symbol = tape[head]\n",
    "\n",
    "        # No rules for current state = stop\n",
    "        if (state, symbol) not in state_table:\n",
    "            print(\"No transitioin defined for:\", (state, symbol))\n",
    "            break\n",
    "\n",
    "\n",
    "        new_state, new_symbol, direction = state_table[(state, symbol)]\n",
    "        \n",
    "        # Write the new symbol on the tape\n",
    "        tape[head] = new_symbol\n",
    "\n",
    "        # Change to the new state\n",
    "        state = new_state\n",
    "\n",
    "        # Move head left or right\n",
    "        if direction == 'R':\n",
    "            head += 1\n",
    "        elif direction == 'L':\n",
    "            head -= 1\n",
    "        \n",
    "        # If head went off the left side, add a blank and reset head\n",
    "        if head < 0:\n",
    "            tape = ['_'] + tape\n",
    "            head = 0\n",
    "\n",
    "        # If head goes beyond the end, add a blank to the right\n",
    "        elif head >= len(tape):\n",
    "            tape.append('_')\n",
    "            \n",
    "    return tape"
   ]
  },
  {
   "cell_type": "markdown",
   "metadata": {},
   "source": [
    "- This function acts as the main controlled, it pprepares the tape and state, runs the Turing machine, and prints the final result. "
   ]
  },
  {
   "cell_type": "code",
   "execution_count": 188,
   "metadata": {},
   "outputs": [],
   "source": [
    "def simulate(state_table, input_str):\n",
    "    tape, head, state = initialize_tape(input_str)\n",
    "\n",
    "    # Runs the Turing machine using the state table and input\n",
    "    final_tape = run_turing_machine(state_table, tape, head, state)\n",
    "\n",
    "    # Prints the final results, cleaned up\n",
    "    print(\"Result:\", ''.join(final_tape).strip('_'))"
   ]
  },
  {
   "cell_type": "markdown",
   "metadata": {},
   "source": [
    "- Runs the machine on the binary input of '100111' to verify that the machine correctly adds 1, produces '101000'."
   ]
  },
  {
   "cell_type": "code",
   "execution_count": 189,
   "metadata": {},
   "outputs": [
    {
     "name": "stdout",
     "output_type": "stream",
     "text": [
      "Result: 101000\n"
     ]
    }
   ],
   "source": [
    "# Run the machine with the binary number '100111' for tests\n",
    "simulate(state_table, '100111')"
   ]
  },
  {
   "cell_type": "markdown",
   "metadata": {},
   "source": [
    "\n",
    "References:\n",
    "[Wikipedia definition of Turing machines](https://en.wikipedia.org/wiki/Turing_machine#Formal_definition)  \n"
   ]
  },
  {
   "cell_type": "markdown",
   "metadata": {},
   "source": [
    "### Research Perspective: \n",
    "\n",
    "\n",
    "# END TO TASK 7\n",
    "\n",
    "## Task 8: Computational Complexity\n",
    "This tasks tests how many comparisions bubble sort makes when sorting different orders of the list '[1, 2, 3, 4, 5]'."
   ]
  },
  {
   "cell_type": "code",
   "execution_count": 190,
   "metadata": {},
   "outputs": [],
   "source": [
    "# List used to test\n",
    "L = [1, 2, 3, 4, 5]"
   ]
  },
  {
   "cell_type": "code",
   "execution_count": 191,
   "metadata": {},
   "outputs": [],
   "source": [
    "def bubble_sort(arr):\n",
    "    count = 0\n",
    "    a = arr.copy()\n",
    "    n = len(a)\n",
    "    for i in range(n):\n",
    "       for j in range(0, n - i - 1):\n",
    "            count += 1\n",
    "            if a[j] > a[j + 1]:\n",
    "                a[j], a[j + 1] = a[j + 1], a[j]\n",
    "    return count"
   ]
  },
  {
   "cell_type": "code",
   "execution_count": 192,
   "metadata": {},
   "outputs": [
    {
     "name": "stdout",
     "output_type": "stream",
     "text": [
      "(1, 2, 3, 4, 5) -> 10 comparisons\n",
      "(1, 2, 3, 5, 4) -> 10 comparisons\n",
      "(1, 2, 4, 3, 5) -> 10 comparisons\n",
      "(1, 2, 4, 5, 3) -> 10 comparisons\n",
      "(1, 2, 5, 3, 4) -> 10 comparisons\n",
      "(1, 2, 5, 4, 3) -> 10 comparisons\n",
      "(1, 3, 2, 4, 5) -> 10 comparisons\n",
      "(1, 3, 2, 5, 4) -> 10 comparisons\n",
      "(1, 3, 4, 2, 5) -> 10 comparisons\n",
      "(1, 3, 4, 5, 2) -> 10 comparisons\n",
      "(1, 3, 5, 2, 4) -> 10 comparisons\n",
      "(1, 3, 5, 4, 2) -> 10 comparisons\n",
      "(1, 4, 2, 3, 5) -> 10 comparisons\n",
      "(1, 4, 2, 5, 3) -> 10 comparisons\n",
      "(1, 4, 3, 2, 5) -> 10 comparisons\n",
      "(1, 4, 3, 5, 2) -> 10 comparisons\n",
      "(1, 4, 5, 2, 3) -> 10 comparisons\n",
      "(1, 4, 5, 3, 2) -> 10 comparisons\n",
      "(1, 5, 2, 3, 4) -> 10 comparisons\n",
      "(1, 5, 2, 4, 3) -> 10 comparisons\n",
      "(1, 5, 3, 2, 4) -> 10 comparisons\n",
      "(1, 5, 3, 4, 2) -> 10 comparisons\n",
      "(1, 5, 4, 2, 3) -> 10 comparisons\n",
      "(1, 5, 4, 3, 2) -> 10 comparisons\n",
      "(2, 1, 3, 4, 5) -> 10 comparisons\n",
      "(2, 1, 3, 5, 4) -> 10 comparisons\n",
      "(2, 1, 4, 3, 5) -> 10 comparisons\n",
      "(2, 1, 4, 5, 3) -> 10 comparisons\n",
      "(2, 1, 5, 3, 4) -> 10 comparisons\n",
      "(2, 1, 5, 4, 3) -> 10 comparisons\n",
      "(2, 3, 1, 4, 5) -> 10 comparisons\n",
      "(2, 3, 1, 5, 4) -> 10 comparisons\n",
      "(2, 3, 4, 1, 5) -> 10 comparisons\n",
      "(2, 3, 4, 5, 1) -> 10 comparisons\n",
      "(2, 3, 5, 1, 4) -> 10 comparisons\n",
      "(2, 3, 5, 4, 1) -> 10 comparisons\n",
      "(2, 4, 1, 3, 5) -> 10 comparisons\n",
      "(2, 4, 1, 5, 3) -> 10 comparisons\n",
      "(2, 4, 3, 1, 5) -> 10 comparisons\n",
      "(2, 4, 3, 5, 1) -> 10 comparisons\n",
      "(2, 4, 5, 1, 3) -> 10 comparisons\n",
      "(2, 4, 5, 3, 1) -> 10 comparisons\n",
      "(2, 5, 1, 3, 4) -> 10 comparisons\n",
      "(2, 5, 1, 4, 3) -> 10 comparisons\n",
      "(2, 5, 3, 1, 4) -> 10 comparisons\n",
      "(2, 5, 3, 4, 1) -> 10 comparisons\n",
      "(2, 5, 4, 1, 3) -> 10 comparisons\n",
      "(2, 5, 4, 3, 1) -> 10 comparisons\n",
      "(3, 1, 2, 4, 5) -> 10 comparisons\n",
      "(3, 1, 2, 5, 4) -> 10 comparisons\n",
      "(3, 1, 4, 2, 5) -> 10 comparisons\n",
      "(3, 1, 4, 5, 2) -> 10 comparisons\n",
      "(3, 1, 5, 2, 4) -> 10 comparisons\n",
      "(3, 1, 5, 4, 2) -> 10 comparisons\n",
      "(3, 2, 1, 4, 5) -> 10 comparisons\n",
      "(3, 2, 1, 5, 4) -> 10 comparisons\n",
      "(3, 2, 4, 1, 5) -> 10 comparisons\n",
      "(3, 2, 4, 5, 1) -> 10 comparisons\n",
      "(3, 2, 5, 1, 4) -> 10 comparisons\n",
      "(3, 2, 5, 4, 1) -> 10 comparisons\n",
      "(3, 4, 1, 2, 5) -> 10 comparisons\n",
      "(3, 4, 1, 5, 2) -> 10 comparisons\n",
      "(3, 4, 2, 1, 5) -> 10 comparisons\n",
      "(3, 4, 2, 5, 1) -> 10 comparisons\n",
      "(3, 4, 5, 1, 2) -> 10 comparisons\n",
      "(3, 4, 5, 2, 1) -> 10 comparisons\n",
      "(3, 5, 1, 2, 4) -> 10 comparisons\n",
      "(3, 5, 1, 4, 2) -> 10 comparisons\n",
      "(3, 5, 2, 1, 4) -> 10 comparisons\n",
      "(3, 5, 2, 4, 1) -> 10 comparisons\n",
      "(3, 5, 4, 1, 2) -> 10 comparisons\n",
      "(3, 5, 4, 2, 1) -> 10 comparisons\n",
      "(4, 1, 2, 3, 5) -> 10 comparisons\n",
      "(4, 1, 2, 5, 3) -> 10 comparisons\n",
      "(4, 1, 3, 2, 5) -> 10 comparisons\n",
      "(4, 1, 3, 5, 2) -> 10 comparisons\n",
      "(4, 1, 5, 2, 3) -> 10 comparisons\n",
      "(4, 1, 5, 3, 2) -> 10 comparisons\n",
      "(4, 2, 1, 3, 5) -> 10 comparisons\n",
      "(4, 2, 1, 5, 3) -> 10 comparisons\n",
      "(4, 2, 3, 1, 5) -> 10 comparisons\n",
      "(4, 2, 3, 5, 1) -> 10 comparisons\n",
      "(4, 2, 5, 1, 3) -> 10 comparisons\n",
      "(4, 2, 5, 3, 1) -> 10 comparisons\n",
      "(4, 3, 1, 2, 5) -> 10 comparisons\n",
      "(4, 3, 1, 5, 2) -> 10 comparisons\n",
      "(4, 3, 2, 1, 5) -> 10 comparisons\n",
      "(4, 3, 2, 5, 1) -> 10 comparisons\n",
      "(4, 3, 5, 1, 2) -> 10 comparisons\n",
      "(4, 3, 5, 2, 1) -> 10 comparisons\n",
      "(4, 5, 1, 2, 3) -> 10 comparisons\n",
      "(4, 5, 1, 3, 2) -> 10 comparisons\n",
      "(4, 5, 2, 1, 3) -> 10 comparisons\n",
      "(4, 5, 2, 3, 1) -> 10 comparisons\n",
      "(4, 5, 3, 1, 2) -> 10 comparisons\n",
      "(4, 5, 3, 2, 1) -> 10 comparisons\n",
      "(5, 1, 2, 3, 4) -> 10 comparisons\n",
      "(5, 1, 2, 4, 3) -> 10 comparisons\n",
      "(5, 1, 3, 2, 4) -> 10 comparisons\n",
      "(5, 1, 3, 4, 2) -> 10 comparisons\n",
      "(5, 1, 4, 2, 3) -> 10 comparisons\n",
      "(5, 1, 4, 3, 2) -> 10 comparisons\n",
      "(5, 2, 1, 3, 4) -> 10 comparisons\n",
      "(5, 2, 1, 4, 3) -> 10 comparisons\n",
      "(5, 2, 3, 1, 4) -> 10 comparisons\n",
      "(5, 2, 3, 4, 1) -> 10 comparisons\n",
      "(5, 2, 4, 1, 3) -> 10 comparisons\n",
      "(5, 2, 4, 3, 1) -> 10 comparisons\n",
      "(5, 3, 1, 2, 4) -> 10 comparisons\n",
      "(5, 3, 1, 4, 2) -> 10 comparisons\n",
      "(5, 3, 2, 1, 4) -> 10 comparisons\n",
      "(5, 3, 2, 4, 1) -> 10 comparisons\n",
      "(5, 3, 4, 1, 2) -> 10 comparisons\n",
      "(5, 3, 4, 2, 1) -> 10 comparisons\n",
      "(5, 4, 1, 2, 3) -> 10 comparisons\n",
      "(5, 4, 1, 3, 2) -> 10 comparisons\n",
      "(5, 4, 2, 1, 3) -> 10 comparisons\n",
      "(5, 4, 2, 3, 1) -> 10 comparisons\n",
      "(5, 4, 3, 1, 2) -> 10 comparisons\n",
      "(5, 4, 3, 2, 1) -> 10 comparisons\n"
     ]
    }
   ],
   "source": [
    "for p in permutations(L):\n",
    "    comparisons = bubble_sort(list(p))\n",
    "    print(f\"{p} -> {comparisons} comparisons\")\n"
   ]
  },
  {
   "cell_type": "markdown",
   "metadata": {},
   "source": [
    "**References:**\n",
    "\n",
    "- Wikipedia contributors. *Bubble sort*.[https://en.wikipedia.org/wiki/Bubble_sort](https://en.wikipedia.org/wiki/Bubble_sort).\n",
    "- Lab at materials/computational_complexity.ipynb.\n"
   ]
  }
 ],
 "metadata": {
  "kernelspec": {
   "display_name": "Python 3",
   "language": "python",
   "name": "python3"
  },
  "language_info": {
   "codemirror_mode": {
    "name": "ipython",
    "version": 3
   },
   "file_extension": ".py",
   "mimetype": "text/x-python",
   "name": "python",
   "nbconvert_exporter": "python",
   "pygments_lexer": "ipython3",
   "version": "3.12.1"
  }
 },
 "nbformat": 4,
 "nbformat_minor": 2
}
