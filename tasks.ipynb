{
 "cells": [
  {
   "cell_type": "code",
   "execution_count": 10,
   "metadata": {},
   "outputs": [],
   "source": [
    "import numpy\n",
    "import matplotlib\n",
    "import pandas"
   ]
  },
  {
   "cell_type": "markdown",
   "metadata": {},
   "source": [
    "# Task 1\n",
    "## Rotate Left Function \n",
    "\n",
    "### Explanation:\n",
    "- The bits go past the left and around to the right.\n",
    "- This creates a circle shift.\n",
    "- 4-bit (`0b1111`) to keep results within 4 bits.\n",
    "\n",
    "## Rotate Right Function\n",
    "- \n",
    "\n",
    "## Choice Function\n",
    "- \n",
    "\n",
    "## Majority Function\n",
    "- "
   ]
  },
  {
   "cell_type": "code",
   "execution_count": 11,
   "metadata": {},
   "outputs": [],
   "source": [
    "def rotl(x, n=1):\n",
    "    # Rotate bits of a 32-bit unsigned integer to the left by n positions\n",
    "    n = n % 4  \n",
    "    return ((x << n) & 0b1111) | (x >> (4 - n))  \n",
    "\n",
    "def rotr(x, n=1):\n",
    "    # Rotate bits of a 4-bit unsigned integer to the right by n positions\n",
    "    n = n % 4  \n",
    "    return ((x >> n) | (x << (4 - n))) & 0b1111   \n",
    "\n",
    "def ch(x, y, z):\n",
    "    # Choose bits from y where x is 1, and from z where x is 0\n",
    "    return (x & y) ^ (~x & z)\n",
    "\n",
    "def maj(x, y, z):\n",
    "     # Choose 1 if at least two of x, y, or z are 1\n",
    "    return (x & y) | (x & z) | (y & z)"
   ]
  },
  {
   "cell_type": "code",
   "execution_count": 12,
   "metadata": {},
   "outputs": [
    {
     "name": "stdout",
     "output_type": "stream",
     "text": [
      "Original: 0b1100 (12)\n",
      "x = 0b1100 (12)\n",
      "y = 0b1010 (10)\n",
      "z = 0b110 (6)\n",
      "Rotated Left: 0b1001 (9)\n",
      "Rotated Right: 0b110 (6)\n",
      "ch(x, y, z) = 0b1010 (10)\n",
      "maj(x, y, z) = 0b1110 (14)\n"
     ]
    }
   ],
   "source": [
    "x, y, z = 0b1100, 0b1010, 0b0110\n",
    "rotated_x = rotl(x, 1)  # Rotate left by 1 bit\n",
    "\n",
    "print(f\"Original: {bin(x)} ({x})\")\n",
    "print(f\"x = {bin(x)} ({x})\")\n",
    "print(f\"y = {bin(y)} ({y})\")\n",
    "print(f\"z = {bin(z)} ({z})\")\n",
    "\n",
    "# Test rotate left\n",
    "print(f\"Rotated Left: {bin(rotated_x)} ({rotated_x})\")\n",
    "\n",
    "# Test rotate right\n",
    "rotr_x = rotr(x, 1)\n",
    "print(f\"Rotated Right: {bin(rotr_x)} ({rotr_x})\")\n",
    "\n",
    "# Test ch function\n",
    "ch_result = ch(x, y, z)\n",
    "print(f\"ch(x, y, z) = {bin(ch_result)} ({ch_result})\")\n",
    "\n",
    "# Test maj function\n",
    "maj_result = maj(x, y, z)\n",
    "print(f\"maj(x, y, z) = {bin(maj_result)} ({maj_result})\")"
   ]
  },
  {
   "cell_type": "markdown",
   "metadata": {},
   "source": [
    "# END TO TASK 1\n",
    "## Task 2: Conversion, C - Python\n",
    "\n",
    "### Explanation:"
   ]
  },
  {
   "cell_type": "code",
   "execution_count": null,
   "metadata": {},
   "outputs": [],
   "source": [
    "def hash_function(s):\n",
    "    hashval = 0\n",
    "    for char in s:\n",
    "        hashval = ord(char) + 31 * hashval  \n",
    "    return hashval % 101"
   ]
  },
  {
   "cell_type": "code",
   "execution_count": 2,
   "metadata": {},
   "outputs": [
    {
     "name": "stdout",
     "output_type": "stream",
     "text": [
      "hash_function('hello') = 17\n",
      "hash_function('world') = 34\n",
      "hash_function('hash') = 15\n",
      "hash_function('function') = 100\n",
      "hash_function('test') = 86\n",
      "hash_function('python') = 91\n"
     ]
    }
   ],
   "source": [
    "# Test cases with expected outputs\n",
    "test_strings = [\"hello\", \"world\", \"hash\", \"function\", \"test\", \"python\"]\n",
    "\n",
    "for s in test_strings:\n",
    "    print(f\"hash_function('{s}') = {hash_function(s)}\")"
   ]
  }
 ],
 "metadata": {
  "kernelspec": {
   "display_name": "Python 3",
   "language": "python",
   "name": "python3"
  },
  "language_info": {
   "codemirror_mode": {
    "name": "ipython",
    "version": 3
   },
   "file_extension": ".py",
   "mimetype": "text/x-python",
   "name": "python",
   "nbconvert_exporter": "python",
   "pygments_lexer": "ipython3",
   "version": "3.12.1"
  }
 },
 "nbformat": 4,
 "nbformat_minor": 2
}
